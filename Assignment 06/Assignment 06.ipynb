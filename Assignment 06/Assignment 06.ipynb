{
 "cells": [
  {
   "cell_type": "code",
   "execution_count": 1,
   "metadata": {},
   "outputs": [
    {
     "name": "stdout",
     "output_type": "stream",
     "text": [
      "----------1---------\n",
      "Company\t: Audi\n",
      "Name\t: A3\n",
      "Model\t: 2019\n",
      "Color\t: Black\n",
      "Price\t: $36,600\n",
      "----------2---------\n",
      "Company\t: Audi\n",
      "Name\t: A5\n",
      "Model\t: 2019\n",
      "Color\t: Black\n",
      "Price\t: $40,600\n",
      "----------3---------\n",
      "Company\t: Tesla\n",
      "Name\t: Cyber Truck\n",
      "Model\t: 2019\n",
      "Color\t: Gray\n",
      "Price\t: $39,000\n",
      "------3(Changed)-----[Added a new attribute in car 3]\n",
      "Company\t: Tesla\n",
      "Name\t: Cyber Truck\n",
      "Model\t: 2019\n",
      "Color\t: Gray\n",
      "Price\t: $39,000\n",
      "Luxories: First in the Region\n",
      "----------4---------\n",
      "Company\t: Lamborghini\n",
      "Name\t: Aventador S\n",
      "Model\t: 2019\n",
      "Color\t: Black\n",
      "Price\t: $417,826\n",
      "------4(Changed)-----[changed color of a car 4]\n",
      "Company\t: Lamborghini\n",
      "Name\t: Aventador S\n",
      "Model\t: 2019\n",
      "Color\t: Matt Black\n",
      "Price\t: $417,826\n",
      "----------5---------\n"
     ]
    },
    {
     "data": {
      "text/plain": [
       "<bound method Car.PrintData of <__main__.Car object at 0x0000021AD7F3D208>>"
      ]
     },
     "execution_count": 1,
     "metadata": {},
     "output_type": "execute_result"
    }
   ],
   "source": [
    "\n",
    "class Car():\n",
    "    #Attributes\n",
    "    def __init__(self,name,model,color,Company,Price):\n",
    "        self.model = model\n",
    "        self.color = color\n",
    "        self.name = name\n",
    "        self.Company = Company        \n",
    "        self.Price = Price\n",
    "    def PrintData(self):\n",
    "        print(\"Company\\t: {}\\nName\\t: {}\\nModel\\t: {}\\nColor\\t: {}\\nPrice\\t: {}\".format(self.Company,self.name,self.model,self.color,self.Price))\n",
    " \n",
    "    def changeModel(self,new_model):\n",
    "        self.model = new_model\n",
    "\n",
    "    def changePrice(self,new_price):\n",
    "        self.Price = new_price\n",
    "\n",
    "    def changeColor(self,new_color):\n",
    "        self.color = new_color\n",
    "\n",
    "    def add_Luxories(self,LNEW):\n",
    "        self.Luxories = LNEW;\n",
    "\n",
    "car1 = Car(\"A3\",\"2019\",\"Black\",\"Audi\",\"$36,600\")\n",
    "car2 = Car(\"A5\",\"2019\",\"Black\",\"Audi\",\"$40,600\")\n",
    "car3 = Car(\"Cyber Truck\",\"2019\",\"Gray\",\"Tesla\",\"$39,000\")\n",
    "car4 = Car(\"Aventador S\",\"2019\",\"Black\",\"Lamborghini\",\"$417,826\")\n",
    "car5 = Car(\"Spyder\",\"2019\",\"Black\",\"Lamborghini\",\"$308,859\")\n",
    "print(\"----------1---------\")\n",
    "\n",
    "car1.PrintData()\n",
    "\n",
    "print(\"----------2---------\")\n",
    "\n",
    "car2.PrintData()\n",
    "\n",
    "print(\"----------3---------\")\n",
    "\n",
    "car3.PrintData()\n",
    "\n",
    "print(\"------3(Changed)-----[Added a new attribute in car 3]\")\n",
    "\n",
    "car3.add_Luxories(\"First in the Region\")\n",
    "car3.PrintData()\n",
    "print(\"Luxories:\",car3.Luxories);\n",
    "\n",
    "print(\"----------4---------\")\n",
    "\n",
    "car4.PrintData()\n",
    "\n",
    "print(\"------4(Changed)-----[changed color of a car 4]\")\n",
    "\n",
    "car4.changeColor(\"Matt Black\")\n",
    "car4.PrintData()\n",
    "\n",
    "print(\"----------5---------\")\n",
    "\n",
    "car5.PrintData"
   ]
  },
  {
   "cell_type": "code",
   "execution_count": null,
   "metadata": {},
   "outputs": [],
   "source": []
  }
 ],
 "metadata": {
  "kernelspec": {
   "display_name": "Python 3",
   "language": "python",
   "name": "python3"
  },
  "language_info": {
   "codemirror_mode": {
    "name": "ipython",
    "version": 3
   },
   "file_extension": ".py",
   "mimetype": "text/x-python",
   "name": "python",
   "nbconvert_exporter": "python",
   "pygments_lexer": "ipython3",
   "version": "3.7.4"
  }
 },
 "nbformat": 4,
 "nbformat_minor": 2
}
